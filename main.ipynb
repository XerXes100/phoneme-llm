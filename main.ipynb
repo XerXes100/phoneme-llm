{
  "cells": [
    {
      "cell_type": "code",
      "execution_count": null,
      "metadata": {},
      "outputs": [],
      "source": [
        "# Import statements\n",
        "\n",
        "!pip install g2p_en\n",
        "\n",
        "from g2p_en import G2p"
      ]
    },
    {
      "cell_type": "code",
      "execution_count": null,
      "metadata": {
        "id": "5oyPA6UZ8JpF"
      },
      "outputs": [],
      "source": [
        "# import pandas as pd\n",
        "# data_vctk = pd.read_csv(\"/content/vctk_with_accent_cleaned.csv\")\n",
        "# data_vctk"
      ]
    },
    {
      "cell_type": "code",
      "execution_count": null,
      "metadata": {
        "id": "i5EG0IDF9gUE"
      },
      "outputs": [],
      "source": [
        "# joined_string = ''.join(data_vctk['ground_truth'])\n",
        "\n",
        "# # Specify the file path where you want to save the text file\n",
        "# file_path = '/content/drive/MyDrive/IDL_LLM_Accent_Project_F23/vctk_modified_input.txt'\n",
        "\n",
        "# # Write the joined string to a text file\n",
        "# with open(file_path, 'w') as file:\n",
        "#     file.write(joined_string)"
      ]
    },
    {
      "cell_type": "code",
      "execution_count": null,
      "metadata": {
        "id": "DuEhW-OKErIP"
      },
      "outputs": [],
      "source": [
        "file_path = \"final-PHONEME-train-960.txt\"\n",
        "\n",
        "gt_transcripts = []\n",
        "\n",
        "with open(file_path, 'r') as file:\n",
        "    file_content = file.read()\n",
        "    # print(file_content)\n",
        "    gt_transcripts = file_content.split('\\n')"
      ]
    },
    {
      "cell_type": "code",
      "execution_count": null,
      "metadata": {
        "colab": {
          "base_uri": "https://localhost:8080/",
          "height": 107
        },
        "id": "5rnNZvKAE1AK",
        "outputId": "f0c81749-23e0-4d5a-aa31-a15db4adf775"
      },
      "outputs": [
        {
          "data": {
            "application/vnd.google.colaboratory.intrinsic+json": {
              "type": "string"
            },
            "text/plain": [
              "'W AH1 N   W AO1 R M   D EY1   IH0 N   W IH1 N T ER0   W EH1 N   S AH1 M   AH1 V   DH AH0   P UH1 S IY0   W IH1 L OW2 Z   M EY1 D   AH0   M IH0 S T EY1 K   AH0 N D   B IH0 G AE1 N   T UW1   G R OW1   B IH0 K AO1 Z   DH EY1   TH AO1 T   S P R IH1 NG   HH AE1 D   K AH1 M   AH0   P AA1 R T IY0   AH1 V   M AH1 S K R AE2 T Z   W ER0   V IH1 Z AH0 T IH0 NG   IH0 N   DH AH0   M AA1 R SH   B IH0 S AY1 D   DH AH0   P AA1 N D   AO1 L   ER0 AW1 N D   DH EH1 M   W ER0   DH EH1 R   W IH1 N T ER0   HH AW1 S AH0 Z   B IH1 L T   AH1 V   M AH1 D   AH0 N D   K AO1 R S   G R AE1 S AH0 Z'"
            ]
          },
          "execution_count": 11,
          "metadata": {},
          "output_type": "execute_result"
        }
      ],
      "source": [
        "gt_transcripts[0]"
      ]
    },
    {
      "cell_type": "code",
      "execution_count": null,
      "metadata": {
        "id": "eRSzlzE-bq8n"
      },
      "outputs": [],
      "source": [
        "gt_phonemes = []\n",
        "\n",
        "g2p = G2p()\n",
        "for text in gt_transcripts:\n",
        "    out = g2p(text)\n",
        "    gt_phonemes.append(out)"
      ]
    },
    {
      "cell_type": "code",
      "execution_count": null,
      "metadata": {
        "id": "3jZzwrAtOkZu"
      },
      "outputs": [],
      "source": [
        "def remove_space_elements(list_of_lists):\n",
        "    cleaned_lists = []\n",
        "    for inner_list in list_of_lists:\n",
        "        # Use list comprehension to filter out elements with only space characters\n",
        "        cleaned_inner_list = [element for element in inner_list if not (element.isspace() or element == '.' or element == ',')]\n",
        "        cleaned_lists.append(cleaned_inner_list)\n",
        "    return cleaned_lists\n",
        "\n",
        "gt_phonemes_cleaned = remove_space_elements(gt_phonemes)"
      ]
    },
    {
      "cell_type": "code",
      "execution_count": null,
      "metadata": {
        "id": "jMxleaKxNIMk"
      },
      "outputs": [],
      "source": [
        "gt_phonemes[0]\n",
        "gt_phonemes_cleaned[0]"
      ]
    },
    {
      "cell_type": "code",
      "execution_count": null,
      "metadata": {
        "id": "TDps5jjt9qCI"
      },
      "outputs": [],
      "source": [
        "# Write gt_phoneme\n",
        "file_path = 'gt_phonemes_librispeech_cleaned.txt'\n",
        "\n",
        "with open(file_path, 'w') as file:\n",
        "    for phoneme_list in gt_phonemes_cleaned:\n",
        "        line = ' '.join(map(str, phoneme_list))  # Convert elements to strings and join with space\n",
        "        file.write(f\"{line}\\n\")  # Write the line to the file with a newline character"
      ]
    },
    {
      "cell_type": "code",
      "execution_count": null,
      "metadata": {
        "id": "QrdaYG41x4DS"
      },
      "outputs": [],
      "source": [
        "file_path = 'final-PHONEME-train-960-new.txt'\n",
        "\n",
        "gt_phonemes = []\n",
        "\n",
        "with open(file_path, 'r') as file:\n",
        "  file_content = file.readlines()\n",
        "\n",
        "  for i in file_content:\n",
        "    gt_phonemes.append(i)"
      ]
    },
    {
      "cell_type": "code",
      "execution_count": null,
      "metadata": {
        "id": "d0H5z9n0yVTE"
      },
      "outputs": [],
      "source": [
        "import re\n",
        "\n",
        "gt_phonemes_processed = []\n",
        "\n",
        "for i in gt_phonemes:\n",
        "  temp = i.split(' ')\n",
        "  modified_list = [' ' if a == b == '' else s for a, b, s in zip([''] + temp, temp + [''], temp)]\n",
        "  modified_list = [x for x in modified_list if x != '']\n",
        "  modified_list = [re.sub(r'\\d', '', s) for s in modified_list]\n",
        "  gt_phonemes_processed.append(modified_list)\n",
        "\n",
        "# To add a space between the last phoneme and \"\\n\"\n",
        "for sublist in gt_phonemes_processed:\n",
        "  if sublist:\n",
        "      last_element = sublist.pop()\n",
        "      sublist.append(last_element.rstrip('\\n'))\n",
        "      sublist.append('\\n')"
      ]
    },
    {
      "cell_type": "code",
      "execution_count": null,
      "metadata": {
        "id": "ogTkPNWE4GCe"
      },
      "outputs": [],
      "source": [
        "# Write gt_phoneme\n",
        "file_path = 'gt_phonemes_librispeech_cleaned.txt'\n",
        "\n",
        "with open(file_path, 'w') as file:\n",
        "    for phoneme_list in gt_phonemes_processed:\n",
        "        line = ' '.join(map(str, phoneme_list))  # Convert elements to strings and join with space\n",
        "        file.write(f\"{line}\\n\")  # Write the line to the file with a newline character"
      ]
    },
    {
      "cell_type": "markdown",
      "metadata": {
        "id": "eNLNRviszfcR"
      },
      "source": [
        "### Pre-processing done above and saved in files, no need to run above code if on the same instance, let's proceed ahead!!!!"
      ]
    },
    {
      "cell_type": "code",
      "execution_count": null,
      "metadata": {
        "id": "VZSqqUJX9u9Z"
      },
      "outputs": [],
      "source": [
        "file_path = 'gt_phonemes_librispeech_cleaned.txt'\n",
        "\n",
        "with open(file_path, 'r', encoding='utf-8') as f:\n",
        "  text = f.read()"
      ]
    },
    {
      "cell_type": "code",
      "execution_count": null,
      "metadata": {
        "colab": {
          "base_uri": "https://localhost:8080/",
          "height": 178
        },
        "id": "3qDJ2yht_3_1",
        "outputId": "2f4a7f69-75ac-4f92-9722-58b8281f0c22"
      },
      "outputs": [
        {
          "data": {
            "application/vnd.google.colaboratory.intrinsic+json": {
              "type": "string"
            },
            "text/plain": [
              "'W AH N   W AO R M   D EY   IH N   W IH N T ER   W EH N   S AH M   AH V   DH AH   P UH S IY   W IH L OW Z   M EY D   AH   M IH S T EY K   AH N D   B IH G AE N   T UW   G R OW   B IH K AO Z   DH EY   TH AO T   S P R IH NG   HH AE D   K AH M   AH   P AA R T IY   AH V   M AH S K R AE T Z   W ER   V IH Z AH T IH NG   IH N   DH AH   M AA R SH   B IH S AY D   DH AH   P AA N D   AO L   ER AW N D   DH EH M   W ER   DH EH R   W IH N T ER   HH AW S AH Z   B IH L T   AH V   M AH D   AH N D   K AO R S   G R AE S AH Z \\n\\nDH IY Z   HH OW M Z   L UH K T   L AY K   HH IY P S   AH V   D R AY D   R AH SH AH Z   AH N L EH S   W AH N   W EH N T   K L OW S   T UW   DH EH M   IH F   W AH N   D IH D   DH AE T   HH IY   K UH D   P L EY N L IY   S IY   W AH T   DH EY   W ER   AH N D   IH F   W AH N   HH AE P AH N D   T UW   B IY   AH   M AH S K R AE T   AH N D   K UH D   D AY V   AH N D   G OW   IH N T UW   DH EH M   TH R UW   DH EH R   W AO T ER IY   D AO R W EY Z \\n\\nAH N D   AA R   AH W EY K   AE T   N AY T   W'"
            ]
          },
          "execution_count": 96,
          "metadata": {},
          "output_type": "execute_result"
        }
      ],
      "source": [
        "text[:1000]"
      ]
    },
    {
      "cell_type": "code",
      "execution_count": null,
      "metadata": {
        "colab": {
          "base_uri": "https://localhost:8080/"
        },
        "id": "FA287WdG7BUF",
        "outputId": "7834ab95-7985-451e-c256-6c3a4d928775"
      },
      "outputs": [
        {
          "name": "stdout",
          "output_type": "stream",
          "text": [
            "\n",
            " 'AAAEAHAOAWAYBCHDDHEHEREYFGHHIHIYJHKLMNNGOWOYPRSSHTTHUHUWVWYZZH\n",
            "42\n"
          ]
        }
      ],
      "source": [
        "# Flatten the phoneme corpus into a long list of characters\n",
        "flat_list = [item for sublist in gt_phonemes_processed for item in sublist]\n",
        "\n",
        "# Find unique phonemes\n",
        "unique_elements = list(set(flat_list))\n",
        "\n",
        "# Develop a vocabulary\n",
        "chars = sorted(unique_elements)\n",
        "vocab_size = len(chars)\n",
        "print(''.join(chars))\n",
        "print(vocab_size)"
      ]
    },
    {
      "cell_type": "code",
      "execution_count": null,
      "metadata": {
        "id": "Q66m2FE9_8Tv"
      },
      "outputs": [],
      "source": [
        "# Create a dictionary mapping unique characters to their index in `chars`\n",
        "stoi = { ch:i for i,ch in enumerate(chars) }\n",
        "\n",
        "# Create a dictionary mapping indices to their unique character in `chars`\n",
        "itos = { i:ch for i,ch in enumerate(chars) }\n",
        "\n",
        "# Test the dictionaries\n",
        "encode = lambda s: [stoi[c] for c in s] # encoder: take a string, output a list of integers\n",
        "decode = lambda l: ' '.join([itos[i] for i in l]) # decoder: take a list of integers, output a string"
      ]
    },
    {
      "cell_type": "code",
      "execution_count": null,
      "metadata": {
        "id": "J8TN2L1EAIcD"
      },
      "outputs": [],
      "source": [
        "# Enode the entire phoneme dataset by converting each character to its corresponding index\n",
        "data = encode(flat_list)"
      ]
    },
    {
      "cell_type": "code",
      "execution_count": null,
      "metadata": {
        "colab": {
          "base_uri": "https://localhost:8080/"
        },
        "id": "hoelkOrFY8bN",
        "outputId": "da0c5183-6fda-4fba-c97a-7e864ddf6477"
      },
      "outputs": [
        {
          "name": "stderr",
          "output_type": "stream",
          "text": [
            "<ipython-input-130-3b250d4567a9>:22: UserWarning: To copy construct from a tensor, it is recommended to use sourceTensor.clone().detach() or sourceTensor.clone().detach().requires_grad_(True), rather than torch.tensor(sourceTensor).\n",
            "  data = torch.tensor(data, dtype=torch.long)\n"
          ]
        },
        {
          "name": "stdout",
          "output_type": "stream",
          "text": [
            "0.206762 M parameters\n",
            "step 0: train loss 3.9168, val loss 3.9171\n",
            "step 100: train loss 2.5547, val loss 2.5607\n",
            "step 200: train loss 2.4499, val loss 2.4457\n",
            "step 300: train loss 2.3765, val loss 2.3760\n",
            "step 400: train loss 2.3245, val loss 2.3164\n",
            "step 500: train loss 2.2748, val loss 2.2825\n",
            "step 600: train loss 2.2335, val loss 2.2298\n",
            "step 700: train loss 2.2033, val loss 2.1953\n",
            "step 800: train loss 2.1816, val loss 2.1707\n",
            "step 900: train loss 2.1576, val loss 2.1456\n",
            "step 1000: train loss 2.1200, val loss 2.1338\n",
            "step 1100: train loss 2.1190, val loss 2.1175\n",
            "step 1200: train loss 2.0958, val loss 2.1057\n",
            "step 1300: train loss 2.0804, val loss 2.0755\n",
            "step 1400: train loss 2.0549, val loss 2.0574\n",
            "step 1500: train loss 2.0569, val loss 2.0505\n",
            "step 1600: train loss 2.0320, val loss 2.0241\n",
            "step 1700: train loss 2.0099, val loss 2.0179\n",
            "step 1800: train loss 2.0107, val loss 2.0056\n",
            "step 1900: train loss 2.0026, val loss 1.9968\n",
            "step 2000: train loss 1.9978, val loss 1.9835\n",
            "step 2100: train loss 1.9802, val loss 1.9855\n",
            "step 2200: train loss 1.9773, val loss 1.9724\n",
            "step 2300: train loss 1.9657, val loss 1.9592\n",
            "step 2400: train loss 1.9491, val loss 1.9524\n",
            "step 2500: train loss 1.9378, val loss 1.9452\n",
            "step 2600: train loss 1.9374, val loss 1.9345\n",
            "step 2700: train loss 1.9326, val loss 1.9231\n",
            "step 2800: train loss 1.9232, val loss 1.9267\n",
            "step 2900: train loss 1.9188, val loss 1.9117\n",
            "step 3000: train loss 1.9078, val loss 1.9050\n",
            "step 3100: train loss 1.8978, val loss 1.9100\n",
            "step 3200: train loss 1.9070, val loss 1.8939\n",
            "step 3300: train loss 1.9060, val loss 1.8984\n",
            "step 3400: train loss 1.8848, val loss 1.8848\n",
            "step 3500: train loss 1.8766, val loss 1.8787\n",
            "step 3600: train loss 1.8741, val loss 1.8846\n",
            "step 3700: train loss 1.8708, val loss 1.8720\n",
            "step 3800: train loss 1.8696, val loss 1.8675\n",
            "step 3900: train loss 1.8684, val loss 1.8698\n",
            "step 4000: train loss 1.8567, val loss 1.8549\n",
            "step 4100: train loss 1.8594, val loss 1.8567\n",
            "step 4200: train loss 1.8463, val loss 1.8476\n",
            "step 4300: train loss 1.8540, val loss 1.8505\n",
            "step 4400: train loss 1.8411, val loss 1.8355\n",
            "step 4500: train loss 1.8400, val loss 1.8431\n",
            "step 4600: train loss 1.8390, val loss 1.8443\n",
            "step 4700: train loss 1.8320, val loss 1.8298\n",
            "step 4800: train loss 1.8254, val loss 1.8295\n",
            "step 4900: train loss 1.8226, val loss 1.8253\n",
            "step 4999: train loss 1.8313, val loss 1.8155\n"
          ]
        }
      ],
      "source": [
        "import torch\n",
        "import torch.nn as nn\n",
        "from torch.nn import functional as F\n",
        "\n",
        "# hyperparameters\n",
        "batch_size = 16 # how many independent sequences will we process in parallel?\n",
        "block_size = 32 # what is the maximum context length for predictions?\n",
        "max_iters = 8000\n",
        "eval_interval = 100\n",
        "learning_rate = 1e-3\n",
        "device = 'cuda' if torch.cuda.is_available() else 'cpu'\n",
        "eval_iters = 200\n",
        "n_embd = 64\n",
        "n_head = 4\n",
        "n_layer = 4\n",
        "dropout = 0.2\n",
        "# ------------\n",
        "\n",
        "torch.manual_seed(1337)\n",
        "\n",
        "# Train and test splits\n",
        "data = torch.tensor(data, dtype=torch.long)\n",
        "n = int(0.9*len(data)) # first 90% will be train, rest val\n",
        "train_data = data[:n]\n",
        "val_data = data[n:]\n",
        "\n",
        "# data loading\n",
        "def get_batch(split):\n",
        "    # generate a small batch of data of inputs x and targets y\n",
        "    data = train_data if split == 'train' else val_data\n",
        "    ix = torch.randint(len(data) - block_size, (batch_size,))\n",
        "    x = torch.stack([data[i:i+block_size] for i in ix])\n",
        "    y = torch.stack([data[i+1:i+block_size+1] for i in ix])\n",
        "    x, y = x.to(device), y.to(device)\n",
        "    return x, y\n",
        "\n",
        "@torch.no_grad()\n",
        "def estimate_loss():\n",
        "    out = {}\n",
        "    model.eval()\n",
        "    for split in ['train', 'val']:\n",
        "        losses = torch.zeros(eval_iters)\n",
        "        for k in range(eval_iters):\n",
        "            X, Y = get_batch(split)\n",
        "            logits, loss = model(X, Y)\n",
        "            losses[k] = loss.item()\n",
        "        out[split] = losses.mean()\n",
        "    model.train()\n",
        "    return out\n",
        "\n",
        "class Head(nn.Module):\n",
        "    \"\"\" one head of self-attention \"\"\"\n",
        "\n",
        "    def __init__(self, head_size):\n",
        "        super().__init__()\n",
        "        self.key = nn.Linear(n_embd, head_size, bias=False)\n",
        "        self.query = nn.Linear(n_embd, head_size, bias=False)\n",
        "        self.value = nn.Linear(n_embd, head_size, bias=False)\n",
        "        self.register_buffer('tril', torch.tril(torch.ones(block_size, block_size)))\n",
        "\n",
        "        self.dropout = nn.Dropout(dropout)\n",
        "\n",
        "    def forward(self, x):\n",
        "        B,T,C = x.shape\n",
        "        k = self.key(x)   # (B,T,C)\n",
        "        q = self.query(x) # (B,T,C)\n",
        "        # compute attention scores (\"affinities\")\n",
        "        wei = q @ k.transpose(-2,-1) * C**-0.5 # (B, T, C) @ (B, C, T) -> (B, T, T)\n",
        "        wei = wei.masked_fill(self.tril[:T, :T] == 0, float('-inf')) # (B, T, T)\n",
        "        wei = F.softmax(wei, dim=-1) # (B, T, T)\n",
        "        wei = self.dropout(wei)\n",
        "        # perform the weighted aggregation of the values\n",
        "        v = self.value(x) # (B,T,C)\n",
        "        out = wei @ v # (B, T, T) @ (B, T, C) -> (B, T, C)\n",
        "        return out\n",
        "\n",
        "class MultiHeadAttention(nn.Module):\n",
        "    \"\"\" multiple heads of self-attention in parallel \"\"\"\n",
        "\n",
        "    def __init__(self, num_heads, head_size):\n",
        "        super().__init__()\n",
        "        self.heads = nn.ModuleList([Head(head_size) for _ in range(num_heads)])\n",
        "        self.proj = nn.Linear(n_embd, n_embd)\n",
        "        self.dropout = nn.Dropout(dropout)\n",
        "\n",
        "    def forward(self, x):\n",
        "        out = torch.cat([h(x) for h in self.heads], dim=-1)\n",
        "        out = self.dropout(self.proj(out))\n",
        "        return out\n",
        "\n",
        "class FeedFoward(nn.Module):\n",
        "    \"\"\" a simple linear layer followed by a non-linearity \"\"\"\n",
        "\n",
        "    def __init__(self, n_embd):\n",
        "        super().__init__()\n",
        "        self.net = nn.Sequential(\n",
        "            nn.Linear(n_embd, 4 * n_embd),\n",
        "            nn.ReLU(),\n",
        "            nn.Linear(4 * n_embd, n_embd),\n",
        "            nn.Dropout(dropout),\n",
        "        )\n",
        "\n",
        "    def forward(self, x):\n",
        "        return self.net(x)\n",
        "\n",
        "class Block(nn.Module):\n",
        "    \"\"\" Transformer block: communication followed by computation \"\"\"\n",
        "\n",
        "    def __init__(self, n_embd, n_head):\n",
        "        # n_embd: embedding dimension, n_head: the number of heads we'd like\n",
        "        super().__init__()\n",
        "        head_size = n_embd // n_head\n",
        "        self.sa = MultiHeadAttention(n_head, head_size)\n",
        "        self.ffwd = FeedFoward(n_embd)\n",
        "        self.ln1 = nn.LayerNorm(n_embd)\n",
        "        self.ln2 = nn.LayerNorm(n_embd)\n",
        "\n",
        "    def forward(self, x):\n",
        "        x = x + self.sa(self.ln1(x))\n",
        "        x = x + self.ffwd(self.ln2(x))\n",
        "        return x\n",
        "\n",
        "# super simple bigram model\n",
        "class BigramLanguageModel(nn.Module):\n",
        "\n",
        "    def __init__(self):\n",
        "        super().__init__()\n",
        "        # each token directly reads off the logits for the next token from a lookup table\n",
        "        self.token_embedding_table = nn.Embedding(vocab_size, n_embd)\n",
        "        self.position_embedding_table = nn.Embedding(block_size, n_embd)\n",
        "        self.blocks = nn.Sequential(*[Block(n_embd, n_head=n_head) for _ in range(n_layer)])\n",
        "        self.ln_f = nn.LayerNorm(n_embd) # final layer norm\n",
        "        self.lm_head = nn.Linear(n_embd, vocab_size)\n",
        "\n",
        "    def forward(self, idx, targets=None):\n",
        "        B, T = idx.shape\n",
        "\n",
        "        # idx and targets are both (B,T) tensor of integers\n",
        "        tok_emb = self.token_embedding_table(idx) # (B,T,C)\n",
        "        pos_emb = self.position_embedding_table(torch.arange(T, device=device)) # (T,C)\n",
        "        x = tok_emb + pos_emb # (B,T,C)\n",
        "        x = self.blocks(x) # (B,T,C)\n",
        "        x = self.ln_f(x) # (B,T,C)\n",
        "        logits = self.lm_head(x) # (B,T,vocab_size)\n",
        "\n",
        "        if targets is None:\n",
        "            loss = None\n",
        "        else:\n",
        "            B, T, C = logits.shape\n",
        "            logits = logits.view(B*T, C)\n",
        "            targets = targets.view(B*T)\n",
        "            loss = F.cross_entropy(logits, targets)\n",
        "\n",
        "        return logits, loss\n",
        "\n",
        "    def generate(self, idx, max_new_tokens):\n",
        "        # idx is (B, T) array of indices in the current context\n",
        "        for _ in range(max_new_tokens):\n",
        "            # crop idx to the last block_size tokens\n",
        "            idx_cond = idx[:, -block_size:]\n",
        "            # get the predictions\n",
        "            logits, loss = self(idx_cond)\n",
        "            # focus only on the last time step\n",
        "            logits = logits[:, -1, :] # becomes (B, C)\n",
        "            # apply softmax to get probabilities\n",
        "            probs = F.softmax(logits, dim=-1) # (B, C)\n",
        "            # sample from the distribution\n",
        "            idx_next = torch.multinomial(probs, num_samples=1) # (B, 1)\n",
        "            # append sampled index to the running sequence\n",
        "            idx = torch.cat((idx, idx_next), dim=1) # (B, T+1)\n",
        "        return idx\n",
        "\n",
        "model = BigramLanguageModel()\n",
        "m = model.to(device)\n",
        "# print the number of parameters in the model\n",
        "print(sum(p.numel() for p in m.parameters())/1e6, 'M parameters')\n",
        "\n",
        "# create a PyTorch optimizer\n",
        "optimizer = torch.optim.AdamW(model.parameters(), lr=learning_rate)\n",
        "\n",
        "train_losses = []\n",
        "val_losses = []\n",
        "\n",
        "for iter in range(max_iters):\n",
        "\n",
        "    # every once in a while evaluate the loss on train and val sets\n",
        "    if iter % eval_interval == 0 or iter == max_iters - 1:\n",
        "        losses = estimate_loss()\n",
        "        train_losses.append(losses['train'])\n",
        "        val_losses.append(losses['val'])\n",
        "        print(f\"step {iter}: train loss {losses['train']:.4f}, val loss {losses['val']:.4f}\")\n",
        "\n",
        "    # sample a batch of data\n",
        "    xb, yb = get_batch('train')\n",
        "\n",
        "    # evaluate the loss\n",
        "    logits, loss = model(xb, yb)\n",
        "    optimizer.zero_grad(set_to_none=True)\n",
        "    loss.backward()\n",
        "    optimizer.step()"
      ]
    },
    {
      "cell_type": "code",
      "execution_count": null,
      "metadata": {
        "colab": {
          "base_uri": "https://localhost:8080/",
          "height": 472
        },
        "id": "u9o0wJBdMhJT",
        "outputId": "f26f2430-1a11-4afe-db7f-2e3f2fa2007d"
      },
      "outputs": [],
      "source": [
        "# Plotting the train and validation losses\n",
        "\n",
        "import matplotlib.pyplot as plt\n",
        "\n",
        "steps = range(0, 5100, 100)\n",
        "\n",
        "# Plotting\n",
        "plt.plot(steps, train_losses, label='Train Loss')\n",
        "plt.plot(steps, val_losses, label='Validation Loss')\n",
        "plt.xlabel('Epochs')\n",
        "plt.ylabel('Loss')\n",
        "plt.title('Train Loss over Epochs')\n",
        "plt.legend()\n",
        "plt.show()"
      ]
    },
    {
      "cell_type": "code",
      "execution_count": null,
      "metadata": {
        "colab": {
          "base_uri": "https://localhost:8080/"
        },
        "id": "VQjLI9eXrz7n",
        "outputId": "30fd0be8-f024-45e1-fdad-f9b6bcbf4df9"
      },
      "outputs": [
        {
          "data": {
            "text/plain": [
              "['DH', 'IY', 'Z', ' ', 'HH', 'OW', 'M', 'Z', ' ']"
            ]
          },
          "execution_count": 274,
          "metadata": {},
          "output_type": "execute_result"
        }
      ],
      "source": [
        "# Checking the output of the second transcript in our dataset upto 9 phoneme tokens\n",
        "gt_phonemes_processed[1][:9]"
      ]
    },
    {
      "cell_type": "code",
      "execution_count": null,
      "metadata": {
        "colab": {
          "base_uri": "https://localhost:8080/"
        },
        "id": "NupbYVaeV4dS",
        "outputId": "c76475ef-4595-46fc-d87a-6884c8067c6a"
      },
      "outputs": [
        {
          "name": "stdout",
          "output_type": "stream",
          "text": [
            "12\n",
            "20\n"
          ]
        }
      ],
      "source": [
        "# Test the model\n",
        "print(stoi['DH'])\n",
        "print(stoi['IY'])"
      ]
    },
    {
      "cell_type": "code",
      "execution_count": null,
      "metadata": {
        "colab": {
          "base_uri": "https://localhost:8080/"
        },
        "id": "fjjvMifYZf7x",
        "outputId": "ee936557-7f5d-4b2c-f215-a52397bbb4d5"
      },
      "outputs": [
        {
          "name": "stdout",
          "output_type": "stream",
          "text": [
            "DH IY   M IH S T ER\n"
          ]
        }
      ],
      "source": [
        "# Test the model by passing in the index of 2 initial phoneme tokens\n",
        "context = torch.tensor([[stoi['DH'], stoi['IY']]], dtype=torch.long, device=device)\n",
        "print(decode(m.generate(context, max_new_tokens=6)[0].tolist()))"
      ]
    }
  ],
  "metadata": {
    "accelerator": "GPU",
    "colab": {
      "gpuType": "T4",
      "provenance": []
    },
    "kernelspec": {
      "display_name": "Python 3",
      "name": "python3"
    },
    "language_info": {
      "name": "python"
    }
  },
  "nbformat": 4,
  "nbformat_minor": 0
}
